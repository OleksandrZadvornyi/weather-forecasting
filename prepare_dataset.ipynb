{
  "nbformat": 4,
  "nbformat_minor": 0,
  "metadata": {
    "colab": {
      "provenance": [],
      "gpuType": "T4"
    },
    "kernelspec": {
      "name": "python3",
      "display_name": "Python 3"
    },
    "language_info": {
      "name": "python"
    },
    "accelerator": "GPU",
    "widgets": {
      "application/vnd.jupyter.widget-state+json": {
        "8e00591cc2324425a3e1ac10e6218000": {
          "model_module": "@jupyter-widgets/controls",
          "model_name": "HBoxModel",
          "model_module_version": "1.5.0",
          "state": {
            "_dom_classes": [],
            "_model_module": "@jupyter-widgets/controls",
            "_model_module_version": "1.5.0",
            "_model_name": "HBoxModel",
            "_view_count": null,
            "_view_module": "@jupyter-widgets/controls",
            "_view_module_version": "1.5.0",
            "_view_name": "HBoxView",
            "box_style": "",
            "children": [
              "IPY_MODEL_5fff8c9af07f4c4fa538ae1b31f37bbc",
              "IPY_MODEL_9b9286ea2dbb4a5f88b174dde52d17ac",
              "IPY_MODEL_e068b55ea0604143a0698bcf96f94565"
            ],
            "layout": "IPY_MODEL_8f48dfbd79cf40c38a73a50489d9386b"
          }
        },
        "5fff8c9af07f4c4fa538ae1b31f37bbc": {
          "model_module": "@jupyter-widgets/controls",
          "model_name": "HTMLModel",
          "model_module_version": "1.5.0",
          "state": {
            "_dom_classes": [],
            "_model_module": "@jupyter-widgets/controls",
            "_model_module_version": "1.5.0",
            "_model_name": "HTMLModel",
            "_view_count": null,
            "_view_module": "@jupyter-widgets/controls",
            "_view_module_version": "1.5.0",
            "_view_name": "HTMLView",
            "description": "",
            "description_tooltip": null,
            "layout": "IPY_MODEL_d90d09a3d4444cba8d615fcf6b384a88",
            "placeholder": "​",
            "style": "IPY_MODEL_0af099364d0b480fa65ffea9c5001066",
            "value": "Saving the dataset (1/1 shards): 100%"
          }
        },
        "9b9286ea2dbb4a5f88b174dde52d17ac": {
          "model_module": "@jupyter-widgets/controls",
          "model_name": "FloatProgressModel",
          "model_module_version": "1.5.0",
          "state": {
            "_dom_classes": [],
            "_model_module": "@jupyter-widgets/controls",
            "_model_module_version": "1.5.0",
            "_model_name": "FloatProgressModel",
            "_view_count": null,
            "_view_module": "@jupyter-widgets/controls",
            "_view_module_version": "1.5.0",
            "_view_name": "ProgressView",
            "bar_style": "success",
            "description": "",
            "description_tooltip": null,
            "layout": "IPY_MODEL_a31d5561e6854a75a7e6c8e95d329739",
            "max": 19,
            "min": 0,
            "orientation": "horizontal",
            "style": "IPY_MODEL_722b26ce94e442478efe3e5108f8319d",
            "value": 19
          }
        },
        "e068b55ea0604143a0698bcf96f94565": {
          "model_module": "@jupyter-widgets/controls",
          "model_name": "HTMLModel",
          "model_module_version": "1.5.0",
          "state": {
            "_dom_classes": [],
            "_model_module": "@jupyter-widgets/controls",
            "_model_module_version": "1.5.0",
            "_model_name": "HTMLModel",
            "_view_count": null,
            "_view_module": "@jupyter-widgets/controls",
            "_view_module_version": "1.5.0",
            "_view_name": "HTMLView",
            "description": "",
            "description_tooltip": null,
            "layout": "IPY_MODEL_8803c3d8147b4453a41e687c8180854d",
            "placeholder": "​",
            "style": "IPY_MODEL_dd8d8a63d4fe4a5c9a7807bf9253bfc4",
            "value": " 19/19 [00:00&lt;00:00, 693.99 examples/s]"
          }
        },
        "8f48dfbd79cf40c38a73a50489d9386b": {
          "model_module": "@jupyter-widgets/base",
          "model_name": "LayoutModel",
          "model_module_version": "1.2.0",
          "state": {
            "_model_module": "@jupyter-widgets/base",
            "_model_module_version": "1.2.0",
            "_model_name": "LayoutModel",
            "_view_count": null,
            "_view_module": "@jupyter-widgets/base",
            "_view_module_version": "1.2.0",
            "_view_name": "LayoutView",
            "align_content": null,
            "align_items": null,
            "align_self": null,
            "border": null,
            "bottom": null,
            "display": null,
            "flex": null,
            "flex_flow": null,
            "grid_area": null,
            "grid_auto_columns": null,
            "grid_auto_flow": null,
            "grid_auto_rows": null,
            "grid_column": null,
            "grid_gap": null,
            "grid_row": null,
            "grid_template_areas": null,
            "grid_template_columns": null,
            "grid_template_rows": null,
            "height": null,
            "justify_content": null,
            "justify_items": null,
            "left": null,
            "margin": null,
            "max_height": null,
            "max_width": null,
            "min_height": null,
            "min_width": null,
            "object_fit": null,
            "object_position": null,
            "order": null,
            "overflow": null,
            "overflow_x": null,
            "overflow_y": null,
            "padding": null,
            "right": null,
            "top": null,
            "visibility": null,
            "width": null
          }
        },
        "d90d09a3d4444cba8d615fcf6b384a88": {
          "model_module": "@jupyter-widgets/base",
          "model_name": "LayoutModel",
          "model_module_version": "1.2.0",
          "state": {
            "_model_module": "@jupyter-widgets/base",
            "_model_module_version": "1.2.0",
            "_model_name": "LayoutModel",
            "_view_count": null,
            "_view_module": "@jupyter-widgets/base",
            "_view_module_version": "1.2.0",
            "_view_name": "LayoutView",
            "align_content": null,
            "align_items": null,
            "align_self": null,
            "border": null,
            "bottom": null,
            "display": null,
            "flex": null,
            "flex_flow": null,
            "grid_area": null,
            "grid_auto_columns": null,
            "grid_auto_flow": null,
            "grid_auto_rows": null,
            "grid_column": null,
            "grid_gap": null,
            "grid_row": null,
            "grid_template_areas": null,
            "grid_template_columns": null,
            "grid_template_rows": null,
            "height": null,
            "justify_content": null,
            "justify_items": null,
            "left": null,
            "margin": null,
            "max_height": null,
            "max_width": null,
            "min_height": null,
            "min_width": null,
            "object_fit": null,
            "object_position": null,
            "order": null,
            "overflow": null,
            "overflow_x": null,
            "overflow_y": null,
            "padding": null,
            "right": null,
            "top": null,
            "visibility": null,
            "width": null
          }
        },
        "0af099364d0b480fa65ffea9c5001066": {
          "model_module": "@jupyter-widgets/controls",
          "model_name": "DescriptionStyleModel",
          "model_module_version": "1.5.0",
          "state": {
            "_model_module": "@jupyter-widgets/controls",
            "_model_module_version": "1.5.0",
            "_model_name": "DescriptionStyleModel",
            "_view_count": null,
            "_view_module": "@jupyter-widgets/base",
            "_view_module_version": "1.2.0",
            "_view_name": "StyleView",
            "description_width": ""
          }
        },
        "a31d5561e6854a75a7e6c8e95d329739": {
          "model_module": "@jupyter-widgets/base",
          "model_name": "LayoutModel",
          "model_module_version": "1.2.0",
          "state": {
            "_model_module": "@jupyter-widgets/base",
            "_model_module_version": "1.2.0",
            "_model_name": "LayoutModel",
            "_view_count": null,
            "_view_module": "@jupyter-widgets/base",
            "_view_module_version": "1.2.0",
            "_view_name": "LayoutView",
            "align_content": null,
            "align_items": null,
            "align_self": null,
            "border": null,
            "bottom": null,
            "display": null,
            "flex": null,
            "flex_flow": null,
            "grid_area": null,
            "grid_auto_columns": null,
            "grid_auto_flow": null,
            "grid_auto_rows": null,
            "grid_column": null,
            "grid_gap": null,
            "grid_row": null,
            "grid_template_areas": null,
            "grid_template_columns": null,
            "grid_template_rows": null,
            "height": null,
            "justify_content": null,
            "justify_items": null,
            "left": null,
            "margin": null,
            "max_height": null,
            "max_width": null,
            "min_height": null,
            "min_width": null,
            "object_fit": null,
            "object_position": null,
            "order": null,
            "overflow": null,
            "overflow_x": null,
            "overflow_y": null,
            "padding": null,
            "right": null,
            "top": null,
            "visibility": null,
            "width": null
          }
        },
        "722b26ce94e442478efe3e5108f8319d": {
          "model_module": "@jupyter-widgets/controls",
          "model_name": "ProgressStyleModel",
          "model_module_version": "1.5.0",
          "state": {
            "_model_module": "@jupyter-widgets/controls",
            "_model_module_version": "1.5.0",
            "_model_name": "ProgressStyleModel",
            "_view_count": null,
            "_view_module": "@jupyter-widgets/base",
            "_view_module_version": "1.2.0",
            "_view_name": "StyleView",
            "bar_color": null,
            "description_width": ""
          }
        },
        "8803c3d8147b4453a41e687c8180854d": {
          "model_module": "@jupyter-widgets/base",
          "model_name": "LayoutModel",
          "model_module_version": "1.2.0",
          "state": {
            "_model_module": "@jupyter-widgets/base",
            "_model_module_version": "1.2.0",
            "_model_name": "LayoutModel",
            "_view_count": null,
            "_view_module": "@jupyter-widgets/base",
            "_view_module_version": "1.2.0",
            "_view_name": "LayoutView",
            "align_content": null,
            "align_items": null,
            "align_self": null,
            "border": null,
            "bottom": null,
            "display": null,
            "flex": null,
            "flex_flow": null,
            "grid_area": null,
            "grid_auto_columns": null,
            "grid_auto_flow": null,
            "grid_auto_rows": null,
            "grid_column": null,
            "grid_gap": null,
            "grid_row": null,
            "grid_template_areas": null,
            "grid_template_columns": null,
            "grid_template_rows": null,
            "height": null,
            "justify_content": null,
            "justify_items": null,
            "left": null,
            "margin": null,
            "max_height": null,
            "max_width": null,
            "min_height": null,
            "min_width": null,
            "object_fit": null,
            "object_position": null,
            "order": null,
            "overflow": null,
            "overflow_x": null,
            "overflow_y": null,
            "padding": null,
            "right": null,
            "top": null,
            "visibility": null,
            "width": null
          }
        },
        "dd8d8a63d4fe4a5c9a7807bf9253bfc4": {
          "model_module": "@jupyter-widgets/controls",
          "model_name": "DescriptionStyleModel",
          "model_module_version": "1.5.0",
          "state": {
            "_model_module": "@jupyter-widgets/controls",
            "_model_module_version": "1.5.0",
            "_model_name": "DescriptionStyleModel",
            "_view_count": null,
            "_view_module": "@jupyter-widgets/base",
            "_view_module_version": "1.2.0",
            "_view_name": "StyleView",
            "description_width": ""
          }
        },
        "3caa6f69420f4eca83159e1d8e0db547": {
          "model_module": "@jupyter-widgets/controls",
          "model_name": "HBoxModel",
          "model_module_version": "1.5.0",
          "state": {
            "_dom_classes": [],
            "_model_module": "@jupyter-widgets/controls",
            "_model_module_version": "1.5.0",
            "_model_name": "HBoxModel",
            "_view_count": null,
            "_view_module": "@jupyter-widgets/controls",
            "_view_module_version": "1.5.0",
            "_view_name": "HBoxView",
            "box_style": "",
            "children": [
              "IPY_MODEL_a9aafb4deff4467da613c236a566c145",
              "IPY_MODEL_cb368a4546b24bc3a8dc4128080bebce",
              "IPY_MODEL_2f093214f6ac40cc8d2260b252491d8e"
            ],
            "layout": "IPY_MODEL_e5f4bf8bcabd46c9b9237e6323839311"
          }
        },
        "a9aafb4deff4467da613c236a566c145": {
          "model_module": "@jupyter-widgets/controls",
          "model_name": "HTMLModel",
          "model_module_version": "1.5.0",
          "state": {
            "_dom_classes": [],
            "_model_module": "@jupyter-widgets/controls",
            "_model_module_version": "1.5.0",
            "_model_name": "HTMLModel",
            "_view_count": null,
            "_view_module": "@jupyter-widgets/controls",
            "_view_module_version": "1.5.0",
            "_view_name": "HTMLView",
            "description": "",
            "description_tooltip": null,
            "layout": "IPY_MODEL_7b89fca4020d4230afef28668d8c0ad4",
            "placeholder": "​",
            "style": "IPY_MODEL_23416799f8774bbc9f01132f2a8a3666",
            "value": "Saving the dataset (1/1 shards): 100%"
          }
        },
        "cb368a4546b24bc3a8dc4128080bebce": {
          "model_module": "@jupyter-widgets/controls",
          "model_name": "FloatProgressModel",
          "model_module_version": "1.5.0",
          "state": {
            "_dom_classes": [],
            "_model_module": "@jupyter-widgets/controls",
            "_model_module_version": "1.5.0",
            "_model_name": "FloatProgressModel",
            "_view_count": null,
            "_view_module": "@jupyter-widgets/controls",
            "_view_module_version": "1.5.0",
            "_view_name": "ProgressView",
            "bar_style": "success",
            "description": "",
            "description_tooltip": null,
            "layout": "IPY_MODEL_9753c363935e4482bc9e07d80629f794",
            "max": 19,
            "min": 0,
            "orientation": "horizontal",
            "style": "IPY_MODEL_4aa11c04665a4f128e84f296fd787055",
            "value": 19
          }
        },
        "2f093214f6ac40cc8d2260b252491d8e": {
          "model_module": "@jupyter-widgets/controls",
          "model_name": "HTMLModel",
          "model_module_version": "1.5.0",
          "state": {
            "_dom_classes": [],
            "_model_module": "@jupyter-widgets/controls",
            "_model_module_version": "1.5.0",
            "_model_name": "HTMLModel",
            "_view_count": null,
            "_view_module": "@jupyter-widgets/controls",
            "_view_module_version": "1.5.0",
            "_view_name": "HTMLView",
            "description": "",
            "description_tooltip": null,
            "layout": "IPY_MODEL_9b49ec989ac14f47acca8bbcff9741ce",
            "placeholder": "​",
            "style": "IPY_MODEL_9b57d3575f3a4fc5bfb0cdd3ae3fb07e",
            "value": " 19/19 [00:00&lt;00:00, 829.92 examples/s]"
          }
        },
        "e5f4bf8bcabd46c9b9237e6323839311": {
          "model_module": "@jupyter-widgets/base",
          "model_name": "LayoutModel",
          "model_module_version": "1.2.0",
          "state": {
            "_model_module": "@jupyter-widgets/base",
            "_model_module_version": "1.2.0",
            "_model_name": "LayoutModel",
            "_view_count": null,
            "_view_module": "@jupyter-widgets/base",
            "_view_module_version": "1.2.0",
            "_view_name": "LayoutView",
            "align_content": null,
            "align_items": null,
            "align_self": null,
            "border": null,
            "bottom": null,
            "display": null,
            "flex": null,
            "flex_flow": null,
            "grid_area": null,
            "grid_auto_columns": null,
            "grid_auto_flow": null,
            "grid_auto_rows": null,
            "grid_column": null,
            "grid_gap": null,
            "grid_row": null,
            "grid_template_areas": null,
            "grid_template_columns": null,
            "grid_template_rows": null,
            "height": null,
            "justify_content": null,
            "justify_items": null,
            "left": null,
            "margin": null,
            "max_height": null,
            "max_width": null,
            "min_height": null,
            "min_width": null,
            "object_fit": null,
            "object_position": null,
            "order": null,
            "overflow": null,
            "overflow_x": null,
            "overflow_y": null,
            "padding": null,
            "right": null,
            "top": null,
            "visibility": null,
            "width": null
          }
        },
        "7b89fca4020d4230afef28668d8c0ad4": {
          "model_module": "@jupyter-widgets/base",
          "model_name": "LayoutModel",
          "model_module_version": "1.2.0",
          "state": {
            "_model_module": "@jupyter-widgets/base",
            "_model_module_version": "1.2.0",
            "_model_name": "LayoutModel",
            "_view_count": null,
            "_view_module": "@jupyter-widgets/base",
            "_view_module_version": "1.2.0",
            "_view_name": "LayoutView",
            "align_content": null,
            "align_items": null,
            "align_self": null,
            "border": null,
            "bottom": null,
            "display": null,
            "flex": null,
            "flex_flow": null,
            "grid_area": null,
            "grid_auto_columns": null,
            "grid_auto_flow": null,
            "grid_auto_rows": null,
            "grid_column": null,
            "grid_gap": null,
            "grid_row": null,
            "grid_template_areas": null,
            "grid_template_columns": null,
            "grid_template_rows": null,
            "height": null,
            "justify_content": null,
            "justify_items": null,
            "left": null,
            "margin": null,
            "max_height": null,
            "max_width": null,
            "min_height": null,
            "min_width": null,
            "object_fit": null,
            "object_position": null,
            "order": null,
            "overflow": null,
            "overflow_x": null,
            "overflow_y": null,
            "padding": null,
            "right": null,
            "top": null,
            "visibility": null,
            "width": null
          }
        },
        "23416799f8774bbc9f01132f2a8a3666": {
          "model_module": "@jupyter-widgets/controls",
          "model_name": "DescriptionStyleModel",
          "model_module_version": "1.5.0",
          "state": {
            "_model_module": "@jupyter-widgets/controls",
            "_model_module_version": "1.5.0",
            "_model_name": "DescriptionStyleModel",
            "_view_count": null,
            "_view_module": "@jupyter-widgets/base",
            "_view_module_version": "1.2.0",
            "_view_name": "StyleView",
            "description_width": ""
          }
        },
        "9753c363935e4482bc9e07d80629f794": {
          "model_module": "@jupyter-widgets/base",
          "model_name": "LayoutModel",
          "model_module_version": "1.2.0",
          "state": {
            "_model_module": "@jupyter-widgets/base",
            "_model_module_version": "1.2.0",
            "_model_name": "LayoutModel",
            "_view_count": null,
            "_view_module": "@jupyter-widgets/base",
            "_view_module_version": "1.2.0",
            "_view_name": "LayoutView",
            "align_content": null,
            "align_items": null,
            "align_self": null,
            "border": null,
            "bottom": null,
            "display": null,
            "flex": null,
            "flex_flow": null,
            "grid_area": null,
            "grid_auto_columns": null,
            "grid_auto_flow": null,
            "grid_auto_rows": null,
            "grid_column": null,
            "grid_gap": null,
            "grid_row": null,
            "grid_template_areas": null,
            "grid_template_columns": null,
            "grid_template_rows": null,
            "height": null,
            "justify_content": null,
            "justify_items": null,
            "left": null,
            "margin": null,
            "max_height": null,
            "max_width": null,
            "min_height": null,
            "min_width": null,
            "object_fit": null,
            "object_position": null,
            "order": null,
            "overflow": null,
            "overflow_x": null,
            "overflow_y": null,
            "padding": null,
            "right": null,
            "top": null,
            "visibility": null,
            "width": null
          }
        },
        "4aa11c04665a4f128e84f296fd787055": {
          "model_module": "@jupyter-widgets/controls",
          "model_name": "ProgressStyleModel",
          "model_module_version": "1.5.0",
          "state": {
            "_model_module": "@jupyter-widgets/controls",
            "_model_module_version": "1.5.0",
            "_model_name": "ProgressStyleModel",
            "_view_count": null,
            "_view_module": "@jupyter-widgets/base",
            "_view_module_version": "1.2.0",
            "_view_name": "StyleView",
            "bar_color": null,
            "description_width": ""
          }
        },
        "9b49ec989ac14f47acca8bbcff9741ce": {
          "model_module": "@jupyter-widgets/base",
          "model_name": "LayoutModel",
          "model_module_version": "1.2.0",
          "state": {
            "_model_module": "@jupyter-widgets/base",
            "_model_module_version": "1.2.0",
            "_model_name": "LayoutModel",
            "_view_count": null,
            "_view_module": "@jupyter-widgets/base",
            "_view_module_version": "1.2.0",
            "_view_name": "LayoutView",
            "align_content": null,
            "align_items": null,
            "align_self": null,
            "border": null,
            "bottom": null,
            "display": null,
            "flex": null,
            "flex_flow": null,
            "grid_area": null,
            "grid_auto_columns": null,
            "grid_auto_flow": null,
            "grid_auto_rows": null,
            "grid_column": null,
            "grid_gap": null,
            "grid_row": null,
            "grid_template_areas": null,
            "grid_template_columns": null,
            "grid_template_rows": null,
            "height": null,
            "justify_content": null,
            "justify_items": null,
            "left": null,
            "margin": null,
            "max_height": null,
            "max_width": null,
            "min_height": null,
            "min_width": null,
            "object_fit": null,
            "object_position": null,
            "order": null,
            "overflow": null,
            "overflow_x": null,
            "overflow_y": null,
            "padding": null,
            "right": null,
            "top": null,
            "visibility": null,
            "width": null
          }
        },
        "9b57d3575f3a4fc5bfb0cdd3ae3fb07e": {
          "model_module": "@jupyter-widgets/controls",
          "model_name": "DescriptionStyleModel",
          "model_module_version": "1.5.0",
          "state": {
            "_model_module": "@jupyter-widgets/controls",
            "_model_module_version": "1.5.0",
            "_model_name": "DescriptionStyleModel",
            "_view_count": null,
            "_view_module": "@jupyter-widgets/base",
            "_view_module_version": "1.2.0",
            "_view_name": "StyleView",
            "description_width": ""
          }
        },
        "05bfa948936843e697681076e49af04c": {
          "model_module": "@jupyter-widgets/controls",
          "model_name": "HBoxModel",
          "model_module_version": "1.5.0",
          "state": {
            "_dom_classes": [],
            "_model_module": "@jupyter-widgets/controls",
            "_model_module_version": "1.5.0",
            "_model_name": "HBoxModel",
            "_view_count": null,
            "_view_module": "@jupyter-widgets/controls",
            "_view_module_version": "1.5.0",
            "_view_name": "HBoxView",
            "box_style": "",
            "children": [
              "IPY_MODEL_3b50baa7f1084b6eb7dd60f672060766",
              "IPY_MODEL_2077f4e7629c4961ac7fd8a6002d8d0e",
              "IPY_MODEL_5536b0c833d2463ea1edc392cac0c4a1"
            ],
            "layout": "IPY_MODEL_295d602a27124df295e263055132352a"
          }
        },
        "3b50baa7f1084b6eb7dd60f672060766": {
          "model_module": "@jupyter-widgets/controls",
          "model_name": "HTMLModel",
          "model_module_version": "1.5.0",
          "state": {
            "_dom_classes": [],
            "_model_module": "@jupyter-widgets/controls",
            "_model_module_version": "1.5.0",
            "_model_name": "HTMLModel",
            "_view_count": null,
            "_view_module": "@jupyter-widgets/controls",
            "_view_module_version": "1.5.0",
            "_view_name": "HTMLView",
            "description": "",
            "description_tooltip": null,
            "layout": "IPY_MODEL_8cc1f57b96fa42b886eeb22d187b4de4",
            "placeholder": "​",
            "style": "IPY_MODEL_1c25eb6c0eab406ab4d0419d0a37ece1",
            "value": "Saving the dataset (1/1 shards): 100%"
          }
        },
        "2077f4e7629c4961ac7fd8a6002d8d0e": {
          "model_module": "@jupyter-widgets/controls",
          "model_name": "FloatProgressModel",
          "model_module_version": "1.5.0",
          "state": {
            "_dom_classes": [],
            "_model_module": "@jupyter-widgets/controls",
            "_model_module_version": "1.5.0",
            "_model_name": "FloatProgressModel",
            "_view_count": null,
            "_view_module": "@jupyter-widgets/controls",
            "_view_module_version": "1.5.0",
            "_view_name": "ProgressView",
            "bar_style": "success",
            "description": "",
            "description_tooltip": null,
            "layout": "IPY_MODEL_b2222d57c5ba4435b84a9c77471d91f0",
            "max": 19,
            "min": 0,
            "orientation": "horizontal",
            "style": "IPY_MODEL_f3b78753b7df41b28424616ee3adec22",
            "value": 19
          }
        },
        "5536b0c833d2463ea1edc392cac0c4a1": {
          "model_module": "@jupyter-widgets/controls",
          "model_name": "HTMLModel",
          "model_module_version": "1.5.0",
          "state": {
            "_dom_classes": [],
            "_model_module": "@jupyter-widgets/controls",
            "_model_module_version": "1.5.0",
            "_model_name": "HTMLModel",
            "_view_count": null,
            "_view_module": "@jupyter-widgets/controls",
            "_view_module_version": "1.5.0",
            "_view_name": "HTMLView",
            "description": "",
            "description_tooltip": null,
            "layout": "IPY_MODEL_aa91f35404af4805a4f4266b5e12b601",
            "placeholder": "​",
            "style": "IPY_MODEL_8ba620bcc823463dbd61099109de7471",
            "value": " 19/19 [00:00&lt;00:00, 823.25 examples/s]"
          }
        },
        "295d602a27124df295e263055132352a": {
          "model_module": "@jupyter-widgets/base",
          "model_name": "LayoutModel",
          "model_module_version": "1.2.0",
          "state": {
            "_model_module": "@jupyter-widgets/base",
            "_model_module_version": "1.2.0",
            "_model_name": "LayoutModel",
            "_view_count": null,
            "_view_module": "@jupyter-widgets/base",
            "_view_module_version": "1.2.0",
            "_view_name": "LayoutView",
            "align_content": null,
            "align_items": null,
            "align_self": null,
            "border": null,
            "bottom": null,
            "display": null,
            "flex": null,
            "flex_flow": null,
            "grid_area": null,
            "grid_auto_columns": null,
            "grid_auto_flow": null,
            "grid_auto_rows": null,
            "grid_column": null,
            "grid_gap": null,
            "grid_row": null,
            "grid_template_areas": null,
            "grid_template_columns": null,
            "grid_template_rows": null,
            "height": null,
            "justify_content": null,
            "justify_items": null,
            "left": null,
            "margin": null,
            "max_height": null,
            "max_width": null,
            "min_height": null,
            "min_width": null,
            "object_fit": null,
            "object_position": null,
            "order": null,
            "overflow": null,
            "overflow_x": null,
            "overflow_y": null,
            "padding": null,
            "right": null,
            "top": null,
            "visibility": null,
            "width": null
          }
        },
        "8cc1f57b96fa42b886eeb22d187b4de4": {
          "model_module": "@jupyter-widgets/base",
          "model_name": "LayoutModel",
          "model_module_version": "1.2.0",
          "state": {
            "_model_module": "@jupyter-widgets/base",
            "_model_module_version": "1.2.0",
            "_model_name": "LayoutModel",
            "_view_count": null,
            "_view_module": "@jupyter-widgets/base",
            "_view_module_version": "1.2.0",
            "_view_name": "LayoutView",
            "align_content": null,
            "align_items": null,
            "align_self": null,
            "border": null,
            "bottom": null,
            "display": null,
            "flex": null,
            "flex_flow": null,
            "grid_area": null,
            "grid_auto_columns": null,
            "grid_auto_flow": null,
            "grid_auto_rows": null,
            "grid_column": null,
            "grid_gap": null,
            "grid_row": null,
            "grid_template_areas": null,
            "grid_template_columns": null,
            "grid_template_rows": null,
            "height": null,
            "justify_content": null,
            "justify_items": null,
            "left": null,
            "margin": null,
            "max_height": null,
            "max_width": null,
            "min_height": null,
            "min_width": null,
            "object_fit": null,
            "object_position": null,
            "order": null,
            "overflow": null,
            "overflow_x": null,
            "overflow_y": null,
            "padding": null,
            "right": null,
            "top": null,
            "visibility": null,
            "width": null
          }
        },
        "1c25eb6c0eab406ab4d0419d0a37ece1": {
          "model_module": "@jupyter-widgets/controls",
          "model_name": "DescriptionStyleModel",
          "model_module_version": "1.5.0",
          "state": {
            "_model_module": "@jupyter-widgets/controls",
            "_model_module_version": "1.5.0",
            "_model_name": "DescriptionStyleModel",
            "_view_count": null,
            "_view_module": "@jupyter-widgets/base",
            "_view_module_version": "1.2.0",
            "_view_name": "StyleView",
            "description_width": ""
          }
        },
        "b2222d57c5ba4435b84a9c77471d91f0": {
          "model_module": "@jupyter-widgets/base",
          "model_name": "LayoutModel",
          "model_module_version": "1.2.0",
          "state": {
            "_model_module": "@jupyter-widgets/base",
            "_model_module_version": "1.2.0",
            "_model_name": "LayoutModel",
            "_view_count": null,
            "_view_module": "@jupyter-widgets/base",
            "_view_module_version": "1.2.0",
            "_view_name": "LayoutView",
            "align_content": null,
            "align_items": null,
            "align_self": null,
            "border": null,
            "bottom": null,
            "display": null,
            "flex": null,
            "flex_flow": null,
            "grid_area": null,
            "grid_auto_columns": null,
            "grid_auto_flow": null,
            "grid_auto_rows": null,
            "grid_column": null,
            "grid_gap": null,
            "grid_row": null,
            "grid_template_areas": null,
            "grid_template_columns": null,
            "grid_template_rows": null,
            "height": null,
            "justify_content": null,
            "justify_items": null,
            "left": null,
            "margin": null,
            "max_height": null,
            "max_width": null,
            "min_height": null,
            "min_width": null,
            "object_fit": null,
            "object_position": null,
            "order": null,
            "overflow": null,
            "overflow_x": null,
            "overflow_y": null,
            "padding": null,
            "right": null,
            "top": null,
            "visibility": null,
            "width": null
          }
        },
        "f3b78753b7df41b28424616ee3adec22": {
          "model_module": "@jupyter-widgets/controls",
          "model_name": "ProgressStyleModel",
          "model_module_version": "1.5.0",
          "state": {
            "_model_module": "@jupyter-widgets/controls",
            "_model_module_version": "1.5.0",
            "_model_name": "ProgressStyleModel",
            "_view_count": null,
            "_view_module": "@jupyter-widgets/base",
            "_view_module_version": "1.2.0",
            "_view_name": "StyleView",
            "bar_color": null,
            "description_width": ""
          }
        },
        "aa91f35404af4805a4f4266b5e12b601": {
          "model_module": "@jupyter-widgets/base",
          "model_name": "LayoutModel",
          "model_module_version": "1.2.0",
          "state": {
            "_model_module": "@jupyter-widgets/base",
            "_model_module_version": "1.2.0",
            "_model_name": "LayoutModel",
            "_view_count": null,
            "_view_module": "@jupyter-widgets/base",
            "_view_module_version": "1.2.0",
            "_view_name": "LayoutView",
            "align_content": null,
            "align_items": null,
            "align_self": null,
            "border": null,
            "bottom": null,
            "display": null,
            "flex": null,
            "flex_flow": null,
            "grid_area": null,
            "grid_auto_columns": null,
            "grid_auto_flow": null,
            "grid_auto_rows": null,
            "grid_column": null,
            "grid_gap": null,
            "grid_row": null,
            "grid_template_areas": null,
            "grid_template_columns": null,
            "grid_template_rows": null,
            "height": null,
            "justify_content": null,
            "justify_items": null,
            "left": null,
            "margin": null,
            "max_height": null,
            "max_width": null,
            "min_height": null,
            "min_width": null,
            "object_fit": null,
            "object_position": null,
            "order": null,
            "overflow": null,
            "overflow_x": null,
            "overflow_y": null,
            "padding": null,
            "right": null,
            "top": null,
            "visibility": null,
            "width": null
          }
        },
        "8ba620bcc823463dbd61099109de7471": {
          "model_module": "@jupyter-widgets/controls",
          "model_name": "DescriptionStyleModel",
          "model_module_version": "1.5.0",
          "state": {
            "_model_module": "@jupyter-widgets/controls",
            "_model_module_version": "1.5.0",
            "_model_name": "DescriptionStyleModel",
            "_view_count": null,
            "_view_module": "@jupyter-widgets/base",
            "_view_module_version": "1.2.0",
            "_view_name": "StyleView",
            "description_width": ""
          }
        }
      }
    }
  },
  "cells": [
    {
      "cell_type": "code",
      "source": [
        "!pip install -q dask\n",
        "!pip install -q gluonts ujson\n",
        "!pip install -q datasets"
      ],
      "metadata": {
        "id": "Sdivx5UdGvLD"
      },
      "execution_count": 21,
      "outputs": []
    },
    {
      "cell_type": "code",
      "source": [
        "import dask.dataframe as dd\n",
        "import pandas as pd\n",
        "import numpy as np\n",
        "import glob\n",
        "import os\n",
        "import matplotlib.pyplot as plt\n",
        "from datasets import Dataset, Features, Value, Sequence, DatasetDict\n",
        "from gluonts.itertools import Map"
      ],
      "metadata": {
        "id": "Eul86ODxGD5B"
      },
      "execution_count": 22,
      "outputs": []
    },
    {
      "cell_type": "code",
      "source": [
        "# When reading the CSV files, specify dtypes\n",
        "dtypes = {\n",
        "    'STATION': 'object',\n",
        "    'DATE': 'object',  # Start as string, convert to datetime later\n",
        "    'LATITUDE': 'float64',\n",
        "    'LONGITUDE': 'float64',\n",
        "    'ELEVATION': 'float64',\n",
        "    'NAME': 'object',\n",
        "    'PRCP': 'object',  # Keep as object initially to handle missing values\n",
        "    'PRCP_ATTRIBUTES': 'object',\n",
        "    'TMAX': 'object',\n",
        "    'TMAX_ATTRIBUTES': 'object',\n",
        "    'TMIN': 'object',\n",
        "    'TMIN_ATTRIBUTES': 'object',\n",
        "    'TAVG': 'object',\n",
        "    'TAVG_ATTRIBUTES': 'object',\n",
        "    'SNWD': 'object',\n",
        "    'SNWD_ATTRIBUTES': 'object',\n",
        "}\n",
        "\n",
        "# 1. Load Ukrainian station data\n",
        "ukrainian_files = glob.glob('/content/drive/MyDrive/weather_forecasting_project/daily-summaries-latest-upm/*.csv')\n",
        "print(f\"Found {len(ukrainian_files)} data files\")\n",
        "\n",
        "# Set files count limit\n",
        "max_files = 20\n",
        "ukrainian_files = ukrainian_files[:max_files]\n",
        "print(f\"Reading {len(ukrainian_files)} files\")"
      ],
      "metadata": {
        "id": "8_HZWvfPGHVH",
        "colab": {
          "base_uri": "https://localhost:8080/"
        },
        "outputId": "7a7cefee-79f1-4c50-cb5d-2e209dae2838"
      },
      "execution_count": 28,
      "outputs": [
        {
          "output_type": "stream",
          "name": "stdout",
          "text": [
            "Found 202 data files\n",
            "Reading 20 files\n"
          ]
        }
      ]
    },
    {
      "cell_type": "code",
      "source": [
        "# 2. Read and combine files\n",
        "ddf = dd.read_csv(ukrainian_files, dtype=dtypes, assume_missing=True)\n",
        "print(f\"Data loaded with {len(ddf.columns)} columns\")"
      ],
      "metadata": {
        "id": "2-29dLOBLkvX",
        "colab": {
          "base_uri": "https://localhost:8080/"
        },
        "outputId": "7031d7b2-0abb-4db9-f19b-7bfddc80623c"
      },
      "execution_count": 30,
      "outputs": [
        {
          "output_type": "stream",
          "name": "stdout",
          "text": [
            "Data loaded with 16 columns\n"
          ]
        }
      ]
    },
    {
      "cell_type": "code",
      "source": [
        "# 3. Apply preprocessing to sample for metadata\n",
        "def preprocess(df):\n",
        "    df = df.copy()\n",
        "\n",
        "    df['DATE'] = pd.to_datetime(df['DATE'])\n",
        "\n",
        "    # Ensure all expected columns exist, filling with NaN if necessary\n",
        "    expected_columns = ['PRCP', 'TMAX', 'TMIN', 'TAVG']\n",
        "    for col in expected_columns:\n",
        "        if col not in df.columns:\n",
        "            df[col] = np.nan  # Ensure column exists\n",
        "        df[col] = pd.to_numeric(df[col], errors='coerce')\n",
        "\n",
        "    if 'TMAX' in df.columns and 'TMIN' in df.columns:\n",
        "        df['TEMP_RANGE'] = df['TMAX'] - df['TMIN']\n",
        "\n",
        "    df['MONTH'] = df['DATE'].dt.month\n",
        "    df['DAY'] = df['DATE'].dt.day\n",
        "    df['YEAR'] = df['DATE'].dt.year\n",
        "    df['DAY_OF_YEAR'] = df['DATE'].dt.dayofyear\n",
        "    df['SEASON'] = ((df['MONTH'] % 12) // 3 + 1).astype(int)\n",
        "\n",
        "    cols_to_drop = [col for col in df.columns if '_ATTRIBUTES' in col]\n",
        "    df = df.drop(columns=cols_to_drop, errors='ignore')\n",
        "\n",
        "    # Ensure column order matches the metadata\n",
        "    expected_order = ['STATION', 'DATE', 'LATITUDE', 'LONGITUDE', 'ELEVATION', 'NAME',\n",
        "                      'PRCP', 'TMAX', 'TMIN', 'TAVG', 'TEMP_RANGE',\n",
        "                      'MONTH', 'DAY', 'YEAR', 'DAY_OF_YEAR', 'SEASON']\n",
        "\n",
        "    df = df.reindex(columns=expected_order)\n",
        "\n",
        "    return df\n",
        "\n",
        "def process_station_data(station_df):\n",
        "    station_df = station_df.sort_values('DATE')\n",
        "\n",
        "    if len(station_df) < 365:\n",
        "        return None\n",
        "\n",
        "    station_meta = station_df.iloc[0][['STATION', 'NAME', 'LATITUDE', 'LONGITUDE', 'ELEVATION']].to_dict()\n",
        "\n",
        "    station_df = station_df.set_index('DATE').loc[~station_df.index.duplicated(keep='first')]\n",
        "\n",
        "    date_range = pd.date_range(start=station_df.index.min(), end=station_df.index.max(), freq='D')\n",
        "    resampled_df = station_df.reindex(date_range)\n",
        "\n",
        "    numeric_cols = ['PRCP', 'TMAX', 'TMIN', 'TAVG', 'TEMP_RANGE']\n",
        "    numeric_cols = [col for col in numeric_cols if col in resampled_df.columns]\n",
        "\n",
        "    def seasonal_interpolation(series):\n",
        "        interpolated = series.interpolate(method='linear', limit=7)\n",
        "        return interpolated.fillna(series.groupby(series.index.month).transform('median'))\n",
        "\n",
        "    for col in numeric_cols:\n",
        "        resampled_df[col] = resampled_df.groupby(resampled_df.index.month)[col].transform(seasonal_interpolation)\n",
        "\n",
        "        if col in ['TMAX', 'TMIN', 'TAVG']:\n",
        "            resampled_df[col] = resampled_df[col].fillna(resampled_df[col].rolling(window=15, center=True, min_periods=1).median())\n",
        "\n",
        "        elif col == 'PRCP':\n",
        "            log_interpolated = np.log1p(resampled_df[col] + 0.01).interpolate(method='cubic', limit=10)\n",
        "            resampled_df[col] = np.maximum(np.expm1(log_interpolated), 0)\n",
        "\n",
        "        resampled_df[col] = resampled_df[col].ffill(limit=60).bfill(limit=60)\n",
        "\n",
        "        global_median = station_df[col].median()\n",
        "        resampled_df[col] = resampled_df[col].fillna(global_median)\n",
        "\n",
        "    for col in numeric_cols:\n",
        "        if col in ['TMAX', 'TMIN', 'TAVG']:\n",
        "            Q1, Q3 = resampled_df[col].quantile([0.25, 0.75])\n",
        "            IQR = Q3 - Q1\n",
        "            lower_bound, upper_bound = Q1 - 1.5 * IQR, Q3 + 1.5 * IQR\n",
        "            resampled_df[col] = np.where((resampled_df[col] < lower_bound) | (resampled_df[col] > upper_bound), global_median, resampled_df[col])\n",
        "\n",
        "        elif col == 'PRCP':\n",
        "            resampled_df[col] = np.maximum(resampled_df[col], 0)\n",
        "\n",
        "    for key, value in station_meta.items():\n",
        "        resampled_df[key] = value\n",
        "\n",
        "    resampled_df = resampled_df.reset_index().rename(columns={'index': 'DATE'})\n",
        "    resampled_df['MONTH'], resampled_df['DAY'], resampled_df['YEAR'] = resampled_df['DATE'].dt.month, resampled_df['DATE'].dt.day, resampled_df['DATE'].dt.year\n",
        "    resampled_df['DAY_OF_YEAR'] = resampled_df['DATE'].dt.dayofyear\n",
        "    resampled_df['SEASON'] = ((resampled_df['MONTH'] % 12) // 3 + 1).astype(int)\n",
        "\n",
        "    if 'TMAX' in resampled_df.columns and 'TMIN' in resampled_df.columns:\n",
        "        resampled_df['TEMP_RANGE'] = resampled_df['TMAX'] - resampled_df['TMIN']\n",
        "\n",
        "    # Final NaN check and global median replacement\n",
        "    for col in numeric_cols:\n",
        "        if resampled_df[col].isna().any():\n",
        "            # print(f\"Warning: Remaining NaNs in {col} column\")\n",
        "            global_median = station_df[col].median()\n",
        "            resampled_df[col] = resampled_df[col].fillna(global_median)\n",
        "\n",
        "\n",
        "    return resampled_df\n",
        "\n",
        "# Create metadata by applying function to the first partition\n",
        "meta_df = preprocess(ddf.partitions[0].head())"
      ],
      "metadata": {
        "id": "_XzJ4hukGZlP"
      },
      "execution_count": 31,
      "outputs": []
    },
    {
      "cell_type": "code",
      "execution_count": 32,
      "metadata": {
        "id": "QzBMKvMJF8uf",
        "colab": {
          "base_uri": "https://localhost:8080/"
        },
        "outputId": "a6c17360-5218-41df-cfcf-f81881a67bf4"
      },
      "outputs": [
        {
          "output_type": "stream",
          "name": "stdout",
          "text": [
            "Preprocessing data...\n"
          ]
        }
      ],
      "source": [
        "# 4. Apply preprocessing with metadata\n",
        "print(\"Preprocessing data...\")\n",
        "ddf = ddf.map_partitions(preprocess, meta=meta_df)"
      ]
    },
    {
      "cell_type": "code",
      "source": [
        "# 5. Convert Dask dataframe to Pandas for further processing\n",
        "# This will load all data into memory (ensure you have enough RAM)\n",
        "print(\"Converting to pandas dataframe...\")\n",
        "df = ddf.compute()\n",
        "\n",
        "target_column = 'TMAX'\n",
        "\n",
        "# Drop rows with NaN values\n",
        "print(\"Dropping rows with NaN values...\")\n",
        "print(f\"Total rows: {len(df)}\")\n",
        "df = df.dropna(subset=[target_column])\n",
        "print(f\"Rows remaining after dropping NaNs: {len(df)}\")"
      ],
      "metadata": {
        "id": "XiQ_8_gdo2fL",
        "colab": {
          "base_uri": "https://localhost:8080/"
        },
        "outputId": "47f663e0-9e81-410e-c4a4-9f8af44d804f"
      },
      "execution_count": 33,
      "outputs": [
        {
          "output_type": "stream",
          "name": "stdout",
          "text": [
            "Converting to pandas dataframe...\n",
            "Dropping rows with NaN values...\n",
            "Total rows: 374640\n",
            "Rows remaining after dropping NaNs: 181682\n"
          ]
        }
      ]
    },
    {
      "cell_type": "code",
      "source": [
        "# 6. Create a time-indexed dataset\n",
        "# Group by station and apply resampling\n",
        "print(\"Resampling data by station...\")\n",
        "processed_stations = []\n",
        "for station_id, station_df in df.groupby('STATION'):\n",
        "    try:\n",
        "        processed_station = process_station_data(station_df)\n",
        "        if processed_station is not None:\n",
        "            processed_stations.append(processed_station)\n",
        "            print(f\"Processed station {station_id} with {len(processed_station)} days of data\")\n",
        "    except Exception as e:\n",
        "        print(f\"Error processing station {station_id}: {e}\")\n",
        "\n",
        "# Combine all processed stations\n",
        "print(\"Combining processed stations...\")\n",
        "if processed_stations:\n",
        "    processed_df = pd.concat(processed_stations)\n",
        "    print(f\"Combined dataset has {len(processed_df)} rows\")\n",
        "else:\n",
        "    raise ValueError(\"No stations were successfully processed\")"
      ],
      "metadata": {
        "id": "0wHTqUi4o0bl",
        "colab": {
          "base_uri": "https://localhost:8080/"
        },
        "outputId": "53f78f62-dc75-44b3-b50e-99b3badddc95"
      },
      "execution_count": 34,
      "outputs": [
        {
          "output_type": "stream",
          "name": "stdout",
          "text": [
            "Resampling data by station...\n",
            "Processed station UPM00033759 with 18420 days of data\n",
            "Processed station UPM00033761 with 27568 days of data\n",
            "Processed station UPM00033777 with 24411 days of data\n",
            "Processed station UPM00033788 with 18424 days of data\n",
            "Processed station UPM00033791 with 27569 days of data\n",
            "Processed station UPM00033805 with 24383 days of data\n",
            "Processed station UPM00033830 with 2710 days of data\n",
            "Processed station UPM00033833 with 20971 days of data\n",
            "Processed station UPM00033834 with 24376 days of data\n",
            "Processed station UPM00033836 with 1652 days of data\n",
            "Processed station UPM00033837 with 47905 days of data\n",
            "Processed station UPM00033845 with 10250 days of data\n",
            "Processed station UPM00033846 with 41273 days of data\n",
            "Processed station UPM00033848 with 14769 days of data\n",
            "Processed station UPM00033862 with 22379 days of data\n",
            "Processed station UPM00033869 with 20984 days of data\n",
            "Processed station UPM00033877 with 20967 days of data\n",
            "Processed station UPM00033898 with 3450 days of data\n",
            "Processed station UPM00033907 with 3450 days of data\n",
            "Combining processed stations...\n",
            "Combined dataset has 375911 rows\n"
          ]
        }
      ]
    },
    {
      "cell_type": "code",
      "source": [
        "# 7. Split data into training/validation/test sets based on time\n",
        "print(\"Splitting data into train/validation/test sets...\")\n",
        "\n",
        "# For each station, perform temporal split\n",
        "train_data = {}\n",
        "val_data = {}\n",
        "test_data = {}\n",
        "\n",
        "def split_time_series(processed_df, train_ratio=0.7, val_ratio=0.15):\n",
        "    \"\"\"\n",
        "    Split dataframe by station into train/val/test sets based on time,\n",
        "    preserving proper date information.\n",
        "    \"\"\"\n",
        "    train_data = {}\n",
        "    val_data = {}\n",
        "    test_data = {}\n",
        "\n",
        "    for station_id, station_df in processed_df.groupby('STATION'):\n",
        "        # Ensure proper datetime column\n",
        "        if not pd.api.types.is_datetime64_any_dtype(station_df['DATE']):\n",
        "            station_df['DATE'] = pd.to_datetime(station_df['DATE'])\n",
        "\n",
        "        # Sort by date\n",
        "        station_df = station_df.sort_values('DATE')\n",
        "\n",
        "        # Calculate split points\n",
        "        n = len(station_df)\n",
        "        train_end = int(n * train_ratio)\n",
        "        val_end = int(n * (train_ratio + val_ratio))\n",
        "\n",
        "        # Split the data\n",
        "        train = station_df.iloc[:train_end].copy()\n",
        "        val = station_df.iloc[train_end:val_end].copy()\n",
        "        test = station_df.iloc[val_end:].copy()\n",
        "\n",
        "        # Store in dictionaries\n",
        "        train_data[station_id] = train\n",
        "        val_data[station_id] = val\n",
        "        test_data[station_id] = test\n",
        "\n",
        "    return train_data, val_data, test_data\n",
        "\n",
        "train_data, val_data, test_data = split_time_series(processed_df)"
      ],
      "metadata": {
        "id": "L1BVdbLbowVx",
        "colab": {
          "base_uri": "https://localhost:8080/"
        },
        "outputId": "2301e5f7-867f-41e8-bcb1-c149425d7b32"
      },
      "execution_count": 35,
      "outputs": [
        {
          "output_type": "stream",
          "name": "stdout",
          "text": [
            "Splitting data into train/validation/test sets...\n"
          ]
        }
      ]
    },
    {
      "cell_type": "code",
      "source": [
        "# 8. Prepare data for GluonTS format\n",
        "# First, let's convert the data into the appropriate format for each split\n",
        "print(\"Converting data to GluonTS format...\")\n",
        "\n",
        "def prepare_gluonts_data(data_dict, target_column='TMAX'):\n",
        "    \"\"\"\n",
        "    Convert dictionary of dataframes to GluonTS dataset format.\n",
        "\n",
        "    Args:\n",
        "        data_dict: Dictionary of dataframes, keyed by station_id\n",
        "        target_column: Column to use as target variable\n",
        "\n",
        "    Returns:\n",
        "        List of dictionaries in GluonTS format\n",
        "    \"\"\"\n",
        "    gluonts_data = []\n",
        "\n",
        "    # Create a mapping of station IDs to unique categorical indices\n",
        "    station_ids = list(data_dict.keys())\n",
        "    station_id_to_cat = {station_id: idx for idx, station_id in enumerate(station_ids)}\n",
        "\n",
        "    for station_id, df in data_dict.items():\n",
        "        # Ensure the dataframe has a proper date index or DATE column\n",
        "        if 'DATE' in df.columns:\n",
        "            # If DATE is a column, ensure it's a datetime\n",
        "            if not pd.api.types.is_datetime64_any_dtype(df['DATE']):\n",
        "                df['DATE'] = pd.to_datetime(df['DATE'])\n",
        "\n",
        "            # Sort by DATE\n",
        "            df = df.sort_values('DATE')\n",
        "\n",
        "            # Get start timestamp as a proper pandas Timestamp\n",
        "            start = df['DATE'].iloc[0]\n",
        "        else:\n",
        "            # If using an index, ensure it's a datetime index\n",
        "            if not isinstance(df.index, pd.DatetimeIndex):\n",
        "                df.index = pd.to_datetime(df.index)\n",
        "\n",
        "            # Sort by date index\n",
        "            df = df.sort_index()\n",
        "\n",
        "            # Get start timestamp\n",
        "            start = df.index[0]\n",
        "\n",
        "        # Convert start to string format that GluonTS can handle\n",
        "        # Format: YYYY-MM-DD HH:MM:SS\n",
        "        start_str = start.strftime('%Y-%m-%d %H:%M:%S')\n",
        "\n",
        "        # Extract target variable\n",
        "        target = df[target_column].values.astype(np.float32)\n",
        "\n",
        "        # Create static categorical feature\n",
        "        static_cat = [station_id_to_cat[station_id]]\n",
        "\n",
        "        # Create optional static real features\n",
        "        static_real = [\n",
        "            df['LATITUDE'].iloc[0],\n",
        "            df['LONGITUDE'].iloc[0],\n",
        "            df['ELEVATION'].iloc[0]\n",
        "        ]\n",
        "\n",
        "        # Create dictionary in GluonTS format\n",
        "        ts_data = {\n",
        "            \"start\": start_str,  # Store as string for consistent handling\n",
        "            \"target\": target,\n",
        "            \"feat_static_cat\": static_cat,\n",
        "            \"feat_static_real\": static_real,\n",
        "            \"item_id\": station_id\n",
        "        }\n",
        "\n",
        "        gluonts_data.append(ts_data)\n",
        "\n",
        "    return gluonts_data\n",
        "\n",
        "# Choose target variable\n",
        "#target_column = 'TMIN'  # Can be changed to TMIN, PRCP, etc.\n",
        "\n",
        "# Convert data to GluonTS format\n",
        "train_gluonts = prepare_gluonts_data(train_data, target_column)\n",
        "val_gluonts = prepare_gluonts_data(val_data, target_column)\n",
        "test_gluonts = prepare_gluonts_data(test_data, target_column)\n",
        "\n",
        "print(f\"Created {len(train_gluonts)} training series, {len(val_gluonts)} validation series, {len(test_gluonts)} test series\")\n"
      ],
      "metadata": {
        "id": "Jh1H3glRVRKI",
        "collapsed": true,
        "colab": {
          "base_uri": "https://localhost:8080/"
        },
        "outputId": "873625d7-4fbb-460b-eb06-0c67ae41864f"
      },
      "execution_count": 36,
      "outputs": [
        {
          "output_type": "stream",
          "name": "stdout",
          "text": [
            "Converting data to GluonTS format...\n",
            "Created 19 training series, 19 validation series, 19 test series\n"
          ]
        }
      ]
    },
    {
      "cell_type": "code",
      "source": [
        "# 9. Create HuggingFace Datasets\n",
        "print(\"Creating HuggingFace Datasets...\")\n",
        "\n",
        "# Process start field for HuggingFace Dataset\n",
        "class ProcessStartField:\n",
        "    ts_id = 0\n",
        "\n",
        "    def __call__(self, data):\n",
        "        # Convert start from string to datetime\n",
        "        if isinstance(data[\"start\"], str):\n",
        "            data[\"start\"] = pd.Timestamp(data[\"start\"])\n",
        "\n",
        "        # Ensure start is a timestamp\n",
        "        if isinstance(data[\"start\"], pd.Timestamp):\n",
        "            data[\"start\"] = data[\"start\"].to_pydatetime()\n",
        "\n",
        "        # Assign a unique ID to each time series\n",
        "        if \"feat_static_cat\" not in data:\n",
        "            data[\"feat_static_cat\"] = [self.ts_id]\n",
        "\n",
        "        self.ts_id += 1\n",
        "        return data\n",
        "\n",
        "# Apply processing to each split\n",
        "process_start = ProcessStartField()\n",
        "train_processed = list(Map(process_start, train_gluonts))\n",
        "process_start = ProcessStartField()  # Reset ID counter\n",
        "val_processed = list(Map(process_start, val_gluonts))\n",
        "process_start = ProcessStartField()  # Reset ID counter\n",
        "test_processed = list(Map(process_start, test_gluonts))\n",
        "\n",
        "# Define dataset features\n",
        "features = Features(\n",
        "    {\n",
        "        \"start\": Value(\"timestamp[s]\"),\n",
        "        \"target\": Sequence(Value(\"float32\")),\n",
        "        \"feat_static_cat\": Sequence(Value(\"int64\")),\n",
        "        \"feat_static_real\": Sequence(Value(\"float32\")),\n",
        "        \"item_id\": Value(\"string\"),\n",
        "    }\n",
        ")\n",
        "\n",
        "# Create HuggingFace Datasets\n",
        "train_dataset = Dataset.from_list(train_processed, features=features)\n",
        "val_dataset = Dataset.from_list(val_processed, features=features)\n",
        "test_dataset = Dataset.from_list(test_processed, features=features)\n"
      ],
      "metadata": {
        "id": "Mib6WQpruR7x",
        "colab": {
          "base_uri": "https://localhost:8080/"
        },
        "outputId": "a47b21bc-b4d3-4d22-b4f1-6173b819fccb"
      },
      "execution_count": 37,
      "outputs": [
        {
          "output_type": "stream",
          "name": "stdout",
          "text": [
            "Creating HuggingFace Datasets...\n"
          ]
        }
      ]
    },
    {
      "cell_type": "code",
      "source": [
        "# 10. Save the prepared datasets\n",
        "print(\"Saving prepared datasets...\")\n",
        "data_dir = \"/content/drive/MyDrive/weather_forecasting_project/prepared_datasets\"\n",
        "os.makedirs(data_dir, exist_ok=True)\n",
        "\n",
        "# Save datasets\n",
        "\n",
        "# Create a DatasetDict\n",
        "dataset = DatasetDict({\n",
        "    \"train\": train_dataset,\n",
        "    \"validation\": val_dataset,\n",
        "    \"test\": test_dataset\n",
        "})\n",
        "\n",
        "# Save the DatasetDict\n",
        "dataset.save_to_disk(f\"{data_dir}/dataset\")\n",
        "\n",
        "# Save target column information\n",
        "with open(f\"{data_dir}/metadata.txt\", \"w\") as f:\n",
        "    f.write(f\"target_column={target_column}\\n\")\n",
        "    f.write(\"freq=D\\n\")  # Daily frequency\n",
        "\n",
        "print(\"Data preparation complete!\")\n",
        "print(\"Datasets saved to:\", data_dir)\n",
        "print(\"Final dataset sizes:\")\n",
        "print(f\"Train: {len(train_dataset)} series\")\n",
        "print(f\"Validation: {len(val_dataset)} series\")\n",
        "print(f\"Test: {len(test_dataset)} series\")"
      ],
      "metadata": {
        "id": "fOYoxkkIuUQU",
        "colab": {
          "base_uri": "https://localhost:8080/",
          "height": 235,
          "referenced_widgets": [
            "8e00591cc2324425a3e1ac10e6218000",
            "5fff8c9af07f4c4fa538ae1b31f37bbc",
            "9b9286ea2dbb4a5f88b174dde52d17ac",
            "e068b55ea0604143a0698bcf96f94565",
            "8f48dfbd79cf40c38a73a50489d9386b",
            "d90d09a3d4444cba8d615fcf6b384a88",
            "0af099364d0b480fa65ffea9c5001066",
            "a31d5561e6854a75a7e6c8e95d329739",
            "722b26ce94e442478efe3e5108f8319d",
            "8803c3d8147b4453a41e687c8180854d",
            "dd8d8a63d4fe4a5c9a7807bf9253bfc4",
            "3caa6f69420f4eca83159e1d8e0db547",
            "a9aafb4deff4467da613c236a566c145",
            "cb368a4546b24bc3a8dc4128080bebce",
            "2f093214f6ac40cc8d2260b252491d8e",
            "e5f4bf8bcabd46c9b9237e6323839311",
            "7b89fca4020d4230afef28668d8c0ad4",
            "23416799f8774bbc9f01132f2a8a3666",
            "9753c363935e4482bc9e07d80629f794",
            "4aa11c04665a4f128e84f296fd787055",
            "9b49ec989ac14f47acca8bbcff9741ce",
            "9b57d3575f3a4fc5bfb0cdd3ae3fb07e",
            "05bfa948936843e697681076e49af04c",
            "3b50baa7f1084b6eb7dd60f672060766",
            "2077f4e7629c4961ac7fd8a6002d8d0e",
            "5536b0c833d2463ea1edc392cac0c4a1",
            "295d602a27124df295e263055132352a",
            "8cc1f57b96fa42b886eeb22d187b4de4",
            "1c25eb6c0eab406ab4d0419d0a37ece1",
            "b2222d57c5ba4435b84a9c77471d91f0",
            "f3b78753b7df41b28424616ee3adec22",
            "aa91f35404af4805a4f4266b5e12b601",
            "8ba620bcc823463dbd61099109de7471"
          ]
        },
        "outputId": "ce44376c-2094-4a41-ab5a-76902a32d1cc"
      },
      "execution_count": 38,
      "outputs": [
        {
          "output_type": "stream",
          "name": "stdout",
          "text": [
            "Saving prepared datasets...\n"
          ]
        },
        {
          "output_type": "display_data",
          "data": {
            "text/plain": [
              "Saving the dataset (0/1 shards):   0%|          | 0/19 [00:00<?, ? examples/s]"
            ],
            "application/vnd.jupyter.widget-view+json": {
              "version_major": 2,
              "version_minor": 0,
              "model_id": "8e00591cc2324425a3e1ac10e6218000"
            }
          },
          "metadata": {}
        },
        {
          "output_type": "display_data",
          "data": {
            "text/plain": [
              "Saving the dataset (0/1 shards):   0%|          | 0/19 [00:00<?, ? examples/s]"
            ],
            "application/vnd.jupyter.widget-view+json": {
              "version_major": 2,
              "version_minor": 0,
              "model_id": "3caa6f69420f4eca83159e1d8e0db547"
            }
          },
          "metadata": {}
        },
        {
          "output_type": "display_data",
          "data": {
            "text/plain": [
              "Saving the dataset (0/1 shards):   0%|          | 0/19 [00:00<?, ? examples/s]"
            ],
            "application/vnd.jupyter.widget-view+json": {
              "version_major": 2,
              "version_minor": 0,
              "model_id": "05bfa948936843e697681076e49af04c"
            }
          },
          "metadata": {}
        },
        {
          "output_type": "stream",
          "name": "stdout",
          "text": [
            "Data preparation complete!\n",
            "Datasets saved to: /content/drive/MyDrive/weather_forecasting_project/prepared_datasets\n",
            "Final dataset sizes:\n",
            "Train: 19 series\n",
            "Validation: 19 series\n",
            "Test: 19 series\n"
          ]
        }
      ]
    },
    {
      "cell_type": "code",
      "source": [
        "train_dataset[0][\"item_id\"]"
      ],
      "metadata": {
        "colab": {
          "base_uri": "https://localhost:8080/",
          "height": 35
        },
        "id": "oHGVVFd8aLtm",
        "outputId": "452e65a4-6454-4f53-a76d-2ba2d5937cd7"
      },
      "execution_count": 39,
      "outputs": [
        {
          "output_type": "execute_result",
          "data": {
            "text/plain": [
              "'UPM00033759'"
            ],
            "application/vnd.google.colaboratory.intrinsic+json": {
              "type": "string"
            }
          },
          "metadata": {},
          "execution_count": 39
        }
      ]
    },
    {
      "cell_type": "code",
      "source": [
        "print(pd.Timestamp(train_dataset[0][\"start\"]))\n",
        "print(pd.Timestamp(val_dataset[0][\"start\"]))\n",
        "print(pd.Timestamp(test_dataset[0][\"start\"]))"
      ],
      "metadata": {
        "colab": {
          "base_uri": "https://localhost:8080/"
        },
        "id": "wf3X788BZzle",
        "outputId": "46dfce76-8e07-4214-e128-f1b483908fb2"
      },
      "execution_count": 40,
      "outputs": [
        {
          "output_type": "stream",
          "name": "stdout",
          "text": [
            "1959-01-06 00:00:00\n",
            "1994-04-26 00:00:00\n",
            "2001-11-18 00:00:00\n"
          ]
        }
      ]
    },
    {
      "cell_type": "code",
      "source": [
        "def plot_sequential_time_series(train_example, validation_example, test_example,\n",
        "                             title=None, target_column=\"TMAX\"):\n",
        "    \"\"\"\n",
        "    Plot time series data sequentially from train, validation, and test sets with datetime on x-axis.\n",
        "    \"\"\"\n",
        "    # Create a figure and axis\n",
        "    plt.figure(figsize=(15, 6))\n",
        "\n",
        "    # Extract target values\n",
        "    train_target = train_example[\"target\"]\n",
        "    validation_target = validation_example[\"target\"]\n",
        "    test_target = test_example[\"target\"]\n",
        "\n",
        "    # Get start dates - parse with pandas to ensure proper handling\n",
        "    train_start = pd.Timestamp(train_example[\"start\"])\n",
        "    val_start = pd.Timestamp(validation_example[\"start\"])\n",
        "    test_start = pd.Timestamp(test_example[\"start\"])\n",
        "\n",
        "    # Debugging info\n",
        "    print(f\"Train start: {train_start}, length: {len(train_target)}\")\n",
        "    print(f\"Val start: {val_start}, length: {len(validation_target)}\")\n",
        "    print(f\"Test start: {test_start}, length: {len(test_target)}\")\n",
        "\n",
        "    # Create date ranges for each dataset\n",
        "    train_dates = pd.date_range(start=train_start, periods=len(train_target), freq='D')\n",
        "    val_dates = pd.date_range(start=val_start, periods=len(validation_target), freq='D')\n",
        "    test_dates = pd.date_range(start=test_start, periods=len(test_target), freq='D')\n",
        "\n",
        "    # Plot each array with actual dates\n",
        "    plt.plot(train_dates, train_target, color=\"blue\", label=\"Train\")\n",
        "    plt.plot(val_dates, validation_target, color=\"red\", label=\"Validation\")\n",
        "    plt.plot(test_dates, test_target, color=\"green\", label=\"Test\")\n",
        "\n",
        "    # Add labels and title\n",
        "    plt.xlabel(\"Date\")\n",
        "    plt.ylabel(f\"{target_column} Temperature\")\n",
        "    plt.title(title or f\"Time Series Plot of {target_column} ({train_example['item_id']})\")\n",
        "    plt.legend()\n",
        "\n",
        "    # Add vertical lines to separate datasets\n",
        "    if len(train_dates) > 0:\n",
        "        plt.axvline(x=train_dates[-1], color='gray', linestyle='--', alpha=0.7)\n",
        "    if len(val_dates) > 0:\n",
        "        plt.axvline(x=val_dates[-1], color='gray', linestyle='--', alpha=0.7)\n",
        "\n",
        "    # Format x-axis dates\n",
        "    plt.gcf().autofmt_xdate()\n",
        "\n",
        "    # Show the plot\n",
        "    plt.tight_layout()\n",
        "    plt.show()\n",
        "\n",
        "# Example usage in your existing code:\n",
        "for x in range(max_files // 10):\n",
        "    plot_sequential_time_series(\n",
        "        train_dataset[x],\n",
        "        val_dataset[x],\n",
        "        test_dataset[x],\n",
        "        target_column=target_column\n",
        "    )"
      ],
      "metadata": {
        "id": "bO9_E5hduWsd",
        "colab": {
          "base_uri": "https://localhost:8080/",
          "height": 1000
        },
        "outputId": "830a262a-832e-405a-adb2-8073b4caf774"
      },
      "execution_count": 41,
      "outputs": [
        {
          "output_type": "stream",
          "name": "stdout",
          "text": [
            "Train start: 1959-01-06 00:00:00, length: 12894\n",
            "Val start: 1994-04-26 00:00:00, length: 2763\n",
            "Test start: 2001-11-18 00:00:00, length: 2763\n"
          ]
        },
        {
          "output_type": "display_data",
          "data": {
            "text/plain": [
              "<Figure size 1500x600 with 1 Axes>"
            ],
            "image/png": "[encoded data removed]"
          },
          "metadata": {}
        },
        {
          "output_type": "stream",
          "name": "stdout",
          "text": [
            "Train start: 1949-09-07 00:00:00, length: 19297\n",
            "Val start: 2002-07-08 00:00:00, length: 4135\n",
            "Test start: 2013-11-02 00:00:00, length: 4136\n"
          ]
        },
        {
          "output_type": "display_data",
          "data": {
            "text/plain": [
              "<Figure size 1500x600 with 1 Axes>"
            ],
            "image/png": "[encoded data removed]"
          },
          "metadata": {}
        }
      ]
    }
  ]
}