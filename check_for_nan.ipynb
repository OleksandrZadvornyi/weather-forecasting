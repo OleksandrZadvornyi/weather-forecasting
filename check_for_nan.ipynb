{
 "cells": [
  {
   "cell_type": "code",
   "execution_count": null,
   "id": "5be1545b",
   "metadata": {},
   "outputs": [],
   "source": [
    "from datasets import load_from_disk\n",
    "import numpy as np"
   ]
  },
  {
   "cell_type": "code",
   "execution_count": null,
   "id": "5c93e833",
   "metadata": {},
   "outputs": [],
   "source": [
    "# Load the dataset\n",
    "data_dir = \"D:/Dev/python-projects/weather-forecasting/prepared_datasets/dataset\"\n",
    "dataset = load_from_disk(data_dir)"
   ]
  },
  {
   "cell_type": "code",
   "execution_count": null,
   "id": "c122f3e5",
   "metadata": {},
   "outputs": [],
   "source": [
    "def check_nan_in_dataset(dataset):\n",
    "    \"\"\"\n",
    "    Check for NaN values in a HuggingFace Dataset\n",
    "    \n",
    "    Parameters:\n",
    "    dataset (datasets.Dataset): The dataset to check\n",
    "    \n",
    "    Returns:\n",
    "    dict: A summary of NaN findings\n",
    "    \"\"\"\n",
    "    nan_summary = {\n",
    "        'total_series': len(dataset),\n",
    "        'series_with_nans': 0,\n",
    "        'total_nans': 0,\n",
    "        'nan_details': []\n",
    "    }\n",
    "    \n",
    "    for idx, item in enumerate(dataset):\n",
    "        # Check target values\n",
    "        target = item['target']\n",
    "        target_nans = np.isnan(target).sum()\n",
    "        \n",
    "        if target_nans > 0:\n",
    "            nan_summary['series_with_nans'] += 1\n",
    "            nan_summary['total_nans'] += target_nans\n",
    "            nan_summary['nan_details'].append({\n",
    "                'item_id': item.get('item_id', idx),\n",
    "                'nan_count': int(target_nans),\n",
    "                'total_length': len(target)\n",
    "            })\n",
    "    \n",
    "    return nan_summary"
   ]
  },
  {
   "cell_type": "code",
   "execution_count": null,
   "id": "81c81a4b",
   "metadata": {},
   "outputs": [],
   "source": [
    "# Check NaN in each split\n",
    "splits = ['train', 'validation', 'test']\n",
    "for split in splits:\n",
    "    print(f\"\\nChecking NaNs in {split} dataset:\")\n",
    "    nan_result = check_nan_in_dataset(dataset[split])\n",
    "    \n",
    "    print(f\"Total series: {nan_result['total_series']}\")\n",
    "    print(f\"Series with NaNs: {nan_result['series_with_nans']}\")\n",
    "    print(f\"Total NaN values: {nan_result['total_nans']}\")\n",
    "    \n",
    "    if nan_result['series_with_nans'] > 0:\n",
    "        print(\"\\nDetailed NaN information:\")\n",
    "        for detail in nan_result['nan_details']:\n",
    "            print(f\"Item ID: {detail['item_id']}\")\n",
    "            print(f\"  NaN count: {detail['nan_count']}\")\n",
    "            print(f\"  Total series length: {detail['total_length']}\")\n",
    "            print(f\"  NaN percentage: {detail['nan_count']/detail['total_length']*100:.2f}%\")"
   ]
  }
 ],
 "metadata": {
  "language_info": {
   "name": "python"
  }
 },
 "nbformat": 4,
 "nbformat_minor": 5
}
